{
  "nbformat": 4,
  "nbformat_minor": 0,
  "metadata": {
    "colab": {
      "name": "Untitled8.ipynb",
      "provenance": [],
      "authorship_tag": "ABX9TyNteNxOAkvyx1kmVTBrNTYD",
      "include_colab_link": true
    },
    "kernelspec": {
      "name": "python3",
      "display_name": "Python 3"
    },
    "language_info": {
      "name": "python"
    }
  },
  "cells": [
    {
      "cell_type": "markdown",
      "metadata": {
        "id": "view-in-github",
        "colab_type": "text"
      },
      "source": [
        "<a href=\"https://colab.research.google.com/github/ritika1507/Notebooks-/blob/main/truthtable.ipynb\" target=\"_parent\"><img src=\"https://colab.research.google.com/assets/colab-badge.svg\" alt=\"Open In Colab\"/></a>"
      ]
    },
    {
      "cell_type": "code",
      "execution_count": 4,
      "metadata": {
        "id": "zbX5UpEmoIuO"
      },
      "outputs": [],
      "source": [
        "def generate_truthtable(n , a):\n",
        "  if n == 0:\n",
        "    print(a)\n",
        "    return \n",
        "  generate_truthtable(n - 1 , a + \"0\")\n",
        "  generate_truthtable(n - 1 , a + \"1\")\n",
        "  return "
      ]
    },
    {
      "cell_type": "code",
      "source": [
        "generate_truthtable(3 , \"\")"
      ],
      "metadata": {
        "colab": {
          "base_uri": "https://localhost:8080/"
        },
        "id": "wjBvHmpsq4Mi",
        "outputId": "79e41c95-1de9-446e-ee6a-f46f6f236e56"
      },
      "execution_count": 5,
      "outputs": [
        {
          "output_type": "stream",
          "name": "stdout",
          "text": [
            "000\n",
            "001\n",
            "010\n",
            "011\n",
            "100\n",
            "101\n",
            "110\n",
            "111\n"
          ]
        }
      ]
    }
  ]
}